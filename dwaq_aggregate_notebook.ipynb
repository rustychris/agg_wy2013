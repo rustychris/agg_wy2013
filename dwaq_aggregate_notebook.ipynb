{
 "cells": [
  {
   "cell_type": "code",
   "execution_count": 1,
   "metadata": {
    "collapsed": true,
    "deletable": true,
    "editable": true
   },
   "outputs": [],
   "source": [
    "import matplotlib\n",
    "%matplotlib notebook"
   ]
  },
  {
   "cell_type": "code",
   "execution_count": 17,
   "metadata": {
    "collapsed": true,
    "deletable": true,
    "editable": true
   },
   "outputs": [],
   "source": [
    "import os\n",
    "import datetime\n",
    "import stompy.model.delft.waq_scenario as waq"
   ]
  },
  {
   "cell_type": "code",
   "execution_count": 18,
   "metadata": {
    "collapsed": false,
    "deletable": true,
    "editable": true
   },
   "outputs": [
    {
     "data": {
      "text/plain": [
       "<module 'stompy.model.delft.waq_scenario' from '/home/rusty/python/stompy/model/delft/waq_scenario.py'>"
      ]
     },
     "execution_count": 18,
     "metadata": {},
     "output_type": "execute_result"
    }
   ],
   "source": [
    "import six\n",
    "six.moves.reload_module(waq)"
   ]
  },
  {
   "cell_type": "code",
   "execution_count": 19,
   "metadata": {
    "collapsed": true,
    "deletable": true,
    "editable": true
   },
   "outputs": [],
   "source": [
    "agg_grid_shp=\"Agg2Shapefile_edited/agg_shapefile_edited.shp\"\n",
    "hyd_fn=\"/hpcvol1/public/sfb_dfm_v2/wy2013c/DFM_DELWAQ_wy2013c_adj/wy2013c.hyd\"\n",
    "output_fn=\"wy2013c-agg/wy2013c-agg.hyd\""
   ]
  },
  {
   "cell_type": "code",
   "execution_count": 9,
   "metadata": {
    "collapsed": false,
    "deletable": true,
    "editable": true
   },
   "outputs": [],
   "source": [
    "# Clean inputs\n",
    "def clean_shapefile(shp_in):\n",
    "    from stompy.spatial import wkb2shp\n",
    "    geoms=wkb2shp.shp2geom(agg_grid_shp)\n",
    "\n",
    "    multi_count=0\n",
    "    \n",
    "    new_geoms=[]\n",
    "    for fi,feat in enumerate(geoms):\n",
    "        if feat['geom'].type=='Polygon':\n",
    "            new_geoms.append(feat['geom'])\n",
    "        else:\n",
    "            multi_count+=1\n",
    "            for g in feat['geom'].geoms:\n",
    "                new_geoms.append(g)\n",
    "    if multi_count:\n",
    "        cleaned=agg_grid_shp.replace('.shp','-cleaned.shp')\n",
    "        assert cleaned!=agg_grid_shp\n",
    "        wkb2shp.wkb2shp(cleaned,new_geoms,overwrite=True)\n",
    "\n",
    "        return cleaned\n",
    "    else:\n",
    "        return shp_in\n",
    "\n",
    "shp=clean_shapefile(agg_grid_shp)    "
   ]
  },
  {
   "cell_type": "code",
   "execution_count": 20,
   "metadata": {
    "collapsed": false,
    "deletable": true,
    "editable": true
   },
   "outputs": [
    {
     "name": "stderr",
     "output_type": "stream",
     "text": [
      "INFO:HydroAggregator:Trying to triage bad dimensions in NetCDF (probably ddcouplefm output)\n",
      "INFO:HydroAggregator:Synthesizing multi domain data for single domain run\n",
      "INFO:HydroAggregator:init_elt_mapping: proc=0\n",
      "INFO:HydroAggregator:Cell area missing in netcdf, will be computed from grid\n",
      "INFO:HydroAggregator:2D element within aggregation polygon: 0\n",
      "INFO:HydroAggregator:Calculating union of all aggregation polys\n",
      "INFO:HydroAggregator:2D element within aggregation polygon: 2000\n",
      "INFO:HydroAggregator:2D element within aggregation polygon: 4000\n",
      "INFO:HydroAggregator:2D element within aggregation polygon: 6000\n",
      "INFO:HydroAggregator:2D element within aggregation polygon: 8000\n",
      "INFO:HydroAggregator:2D element within aggregation polygon: 10000\n",
      "INFO:HydroAggregator:2D element within aggregation polygon: 12000\n",
      "INFO:HydroAggregator:2D element within aggregation polygon: 14000\n",
      "INFO:HydroAggregator:2D element within aggregation polygon: 16000\n",
      "INFO:HydroAggregator:2D element within aggregation polygon: 18000\n",
      "INFO:HydroAggregator:2D element within aggregation polygon: 20000\n",
      "INFO:HydroAggregator:2D element within aggregation polygon: 22000\n",
      "INFO:HydroAggregator:2D element within aggregation polygon: 24000\n",
      "INFO:HydroAggregator:2D element within aggregation polygon: 26000\n",
      "INFO:HydroAggregator:2D element within aggregation polygon: 28000\n",
      "INFO:HydroAggregator:2D element within aggregation polygon: 30000\n",
      "INFO:HydroAggregator:2D element within aggregation polygon: 32000\n",
      "INFO:HydroAggregator:2D element within aggregation polygon: 34000\n",
      "INFO:HydroAggregator:2D element within aggregation polygon: 36000\n",
      "INFO:HydroAggregator:2D element within aggregation polygon: 38000\n",
      "INFO:HydroAggregator:2D element within aggregation polygon: 40000\n",
      "INFO:HydroAggregator:2D element within aggregation polygon: 42000\n",
      "INFO:HydroAggregator:2D element within aggregation polygon: 44000\n",
      "INFO:HydroAggregator:2D element within aggregation polygon: 46000\n",
      "INFO:HydroAggregator:2D element within aggregation polygon: 48000\n",
      "INFO:HydroAggregator:Processor    0:  49996 2D elements within an aggregation poly\n",
      "INFO:HydroAggregator:Checking proc 0 for inconsistent links\n",
      "INFO:HydroAggregator:Overly conservative cleanup pass on grid\n",
      "INFO:stompy.model.delft.dfm_grid:Regenerating edges\n",
      "INFO:stompy.model.delft.dfm_grid:Removing orphaned nodes\n",
      "INFO:DFMGrid:5121 nodes found to be orphans\n",
      "INFO:stompy.model.delft.dfm_grid:Removing duplicate nodes\n",
      "INFO:stompy.model.delft.dfm_grid:Renumbering nodes\n",
      "INFO:stompy.model.delft.dfm_grid:Extracting grid boundary\n",
      "INFO:HydroAggregator: ... done with cleanup pass\n",
      "INFO:HydroAggregator:b'0'                   area:   0.00 km2  mean depth to 0 datum: -0.68 m\n",
      "INFO:HydroAggregator:b'1'                   area:   0.00 km2  mean depth to 0 datum: -2.28 m\n",
      "INFO:HydroAggregator:b'2'                   area:   0.00 km2  mean depth to 0 datum: -2.08 m\n",
      "INFO:HydroAggregator:b'3'                   area:   0.00 km2  mean depth to 0 datum:  0.19 m\n",
      "INFO:HydroAggregator:b'4'                   area:   0.00 km2  mean depth to 0 datum: -0.39 m\n",
      "INFO:HydroAggregator:b'5'                   area:   0.00 km2  mean depth to 0 datum: -0.58 m\n",
      "INFO:HydroAggregator:b'6'                   area:   0.00 km2  mean depth to 0 datum: -2.27 m\n",
      "INFO:HydroAggregator:b'7'                   area:   0.00 km2  mean depth to 0 datum: -2.23 m\n",
      "INFO:HydroAggregator:b'8'                   area:   0.00 km2  mean depth to 0 datum: -0.57 m\n",
      "INFO:HydroAggregator:b'9'                   area:   0.00 km2  mean depth to 0 datum: -0.27 m\n"
     ]
    },
    {
     "name": "stdout",
     "output_type": "stream",
     "text": [
      "----------------------------------------\n",
      "Only showing first 10 elements\n"
     ]
    },
    {
     "name": "stderr",
     "output_type": "stream",
     "text": [
      "INFO:HydroFiles:Inferring 2D elements, 0 / 499960 3-D segments\n",
      "INFO:HydroFiles:Inferring 2D elements, 50000 / 499960 3-D segments\n",
      "INFO:HydroFiles:Inferring 2D elements, 100000 / 499960 3-D segments\n",
      "INFO:HydroFiles:Inferring 2D elements, 150000 / 499960 3-D segments\n",
      "INFO:HydroFiles:Inferring 2D elements, 200000 / 499960 3-D segments\n",
      "INFO:HydroFiles:Inferring 2D elements, 250000 / 499960 3-D segments\n",
      "INFO:HydroFiles:Inferring 2D elements, 300000 / 499960 3-D segments\n",
      "INFO:HydroFiles:Inferring 2D elements, 350000 / 499960 3-D segments\n",
      "INFO:HydroFiles:Inferring 2D elements, 400000 / 499960 3-D segments\n",
      "INFO:HydroFiles:Inferring 2D elements, 450000 / 499960 3-D segments\n",
      "INFO:HydroAggregator:Aggregated output will have\n",
      "INFO:HydroAggregator: 150630 segments\n",
      "INFO:HydroAggregator: 391557 exchanges (255990,0,135567)\n",
      "INFO:HydroAggregator:  2480 boundary exchanges\n",
      "WARNING:HydroFiles:Exchange length file lazily reports 0 exchanges\n",
      "INFO:HydroAggregator:150476 aggregated exchanges come from multiple unaggregated exchanges\n",
      "INFO:HydroAggregator:had to choose internal segment for agg boundary\n"
     ]
    }
   ],
   "source": [
    "hydro_orig=waq.HydroFiles(hyd_fn)\n",
    "\n",
    "hydro_agg=waq.HydroAggregator(hydro_in=hydro_orig,\n",
    "                              agg_shp=shp,\n",
    "                              sparse_layers=False,\n",
    "                              agg_boundaries=False)"
   ]
  },
  {
   "cell_type": "code",
   "execution_count": null,
   "metadata": {
    "collapsed": false,
    "deletable": true,
    "editable": true
   },
   "outputs": [
    {
     "name": "stdout",
     "output_type": "stream",
     "text": [
      "Setting hydro\n"
     ]
    },
    {
     "name": "stderr",
     "output_type": "stream",
     "text": [
      "INFO:HydroAggregator:Inferring 2D elements, 0 / 150630 3-D segments\n",
      "INFO:HydroAggregator:Inferring 2D elements, 50000 / 150630 3-D segments\n",
      "INFO:HydroAggregator:Inferring 2D elements, 100000 / 150630 3-D segments\n",
      "INFO:HydroAggregator:Inferring 2D elements, 150000 / 150630 3-D segments\n",
      "INFO:HydroFiles:Segment depth will be inferred\n"
     ]
    },
    {
     "name": "stdout",
     "output_type": "stream",
     "text": [
      "Incoming parameters are ['surf', 'bottomdept', 'vertdisper']\n",
      "/hpcvol1/public/sfb_dfm_v2/wy2013c/DFM_DELWAQ_wy2013c_adj/wy2013c.vdf does exist, so will add it to the parameters\n",
      "/hpcvol1/public/sfb_dfm_v2/wy2013c/DFM_DELWAQ_wy2013c_adj/wy2013c.tau does exist, so will add it to the parameters\n",
      "/hpcvol1/public/sfb_dfm_v2/wy2013c/DFM_DELWAQ_wy2013c_adj/wy2013c.sal does exist, so will add it to the parameters\n"
     ]
    },
    {
     "name": "stderr",
     "output_type": "stream",
     "text": [
      "WARNING:HydroFiles:In flattening exchanges to links, link 40526 has ambiguous multiple exchanges for the same segment\n",
      "WARNING:HydroFiles:In flattening exchanges to links, link 64155 has ambiguous multiple exchanges for the same segment\n"
     ]
    }
   ],
   "source": [
    "name=os.path.basename(output_fn.replace('.hyd',''))\n",
    "class Writer(waq.Scenario):\n",
    "    name=name\n",
    "    desc=(name,\n",
    "          agg_grid_shp,\n",
    "          'aggregated')\n",
    "    base_path=os.path.dirname(output_fn)\n",
    "\n",
    "sec=datetime.timedelta(seconds=1)\n",
    "if 0:\n",
    "    # short run for testing: start after some hydro spinup:\n",
    "    start_time=hydro_agg.time0+sec*hydro_agg.t_secs[100]\n",
    "    # and run for 1.5 days..\n",
    "    stop_time=start_time + 4*24*3600*sec\n",
    "else:\n",
    "    start_time=hydro_agg.time0+hydro_agg.t_secs[ 0]*sec\n",
    "    stop_time =hydro_agg.time0+hydro_agg.t_secs[-1]*sec\n",
    "\n",
    "writer=Writer(hydro=hydro_agg,\n",
    "              start_time=start_time,\n",
    "              stop_time=stop_time)\n",
    "\n",
    "# This step is super slow.  Watch the output directory for progress.\n",
    "# Takes hours on HPC\n",
    "writer.cmd_write_hydro()"
   ]
  },
  {
   "cell_type": "markdown",
   "metadata": {},
   "source": [
    "That ran, took about 16 hours.  Compared to the inputs, did not create a bed stress tau file.\n",
    " "
   ]
  },
  {
   "cell_type": "code",
   "execution_count": 33,
   "metadata": {
    "collapsed": false,
    "deletable": true,
    "editable": true
   },
   "outputs": [
    {
     "name": "stderr",
     "output_type": "stream",
     "text": [
      "INFO:HydroFiles:Segment depth will be inferred\n"
     ]
    },
    {
     "name": "stdout",
     "output_type": "stream",
     "text": [
      "Incoming parameters are ['surf', 'bottomdept', 'vertdisper']\n",
      "/hpcvol1/public/sfb_dfm_v2/wy2013c/DFM_DELWAQ_wy2013c_adj/wy2013c.vdf does exist, so will add it to the parameters\n",
      "/hpcvol1/public/sfb_dfm_v2/wy2013c/DFM_DELWAQ_wy2013c_adj/wy2013c.tau does exist, so will add it to the parameters\n",
      "/hpcvol1/public/sfb_dfm_v2/wy2013c/DFM_DELWAQ_wy2013c_adj/wy2013c.sal does exist, so will add it to the parameters\n"
     ]
    },
    {
     "data": {
      "text/plain": [
       "NamedObjects([('surf',\n",
       "               <stompy.model.delft.waq_scenario.ParameterSpatial at 0x7f99ad4ddc50>),\n",
       "              ('bottomdept',\n",
       "               <stompy.model.delft.waq_scenario.ParameterSpatial at 0x7f9927f4a630>),\n",
       "              ('vertdisper',\n",
       "               <stompy.model.delft.waq_scenario.ParameterSpatioTemporal at 0x7f991d938908>),\n",
       "              ('tau',\n",
       "               <stompy.model.delft.waq_scenario.ParameterSpatioTemporal at 0x7f991d938940>),\n",
       "              ('salinity',\n",
       "               <stompy.model.delft.waq_scenario.ParameterSpatioTemporal at 0x7f991d938860>)])"
      ]
     },
     "execution_count": 33,
     "metadata": {},
     "output_type": "execute_result"
    }
   ],
   "source": [
    "hydro_orig.parameters()"
   ]
  }
 ],
 "metadata": {
  "kernelspec": {
   "display_name": "Python 3",
   "language": "python",
   "name": "python3"
  },
  "language_info": {
   "codemirror_mode": {
    "name": "ipython",
    "version": 3
   },
   "file_extension": ".py",
   "mimetype": "text/x-python",
   "name": "python",
   "nbconvert_exporter": "python",
   "pygments_lexer": "ipython3",
   "version": "3.5.5"
  },
  "nav_menu": {},
  "toc": {
   "navigate_menu": true,
   "number_sections": true,
   "sideBar": true,
   "threshold": 6,
   "toc_cell": false,
   "toc_section_display": "block",
   "toc_window_display": false
  }
 },
 "nbformat": 4,
 "nbformat_minor": 2
}
