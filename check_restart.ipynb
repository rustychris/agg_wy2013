{
 "cells": [
  {
   "cell_type": "code",
   "execution_count": 1,
   "metadata": {
    "collapsed": true,
    "deletable": true,
    "editable": true
   },
   "outputs": [],
   "source": [
    "# Load the first step of output from the restart file\n",
    "import os\n",
    "import stompy.model.delft.waq_scenario as waq\n",
    "import stompy.model.delft.io as dio\n",
    "import numpy as np"
   ]
  },
  {
   "cell_type": "code",
   "execution_count": 2,
   "metadata": {
    "collapsed": true,
    "deletable": true,
    "editable": true
   },
   "outputs": [],
   "source": [
    "base='/hpcvol1/Mugunthan/Runs/Grid141/dwaq2020031803/'\n",
    "restart='/hpcvol1/Mugunthan/Runs/Grid141/dwaq2020032500/'"
   ]
  },
  {
   "cell_type": "code",
   "execution_count": 3,
   "metadata": {
    "collapsed": false,
    "deletable": true,
    "editable": true
   },
   "outputs": [
    {
     "name": "stdout",
     "output_type": "stream",
     "text": [
      "/hpcvol1/Mugunthan/Runs/Grid141/dwaq2020031803/sfbay_dynamo000-initials.map\r\n",
      "/hpcvol1/Mugunthan/Runs/Grid141/dwaq2020031803/sfbay_dynamo000.map\r\n",
      "/hpcvol1/Mugunthan/Runs/Grid141/dwaq2020031803/sfbay_dynamo000_res.map\r\n"
     ]
    }
   ],
   "source": [
    "ls /hpcvol1/Mugunthan/Runs/Grid141/dwaq2020031803/*.map"
   ]
  },
  {
   "cell_type": "code",
   "execution_count": 4,
   "metadata": {
    "collapsed": true,
    "deletable": true,
    "editable": true
   },
   "outputs": [],
   "source": [
    "hydro=waq.HydroFiles(os.path.join(base,'com-sfbay_dynamo000.hyd'))"
   ]
  },
  {
   "cell_type": "code",
   "execution_count": 5,
   "metadata": {
    "collapsed": false,
    "deletable": true,
    "editable": true
   },
   "outputs": [
    {
     "name": "stderr",
     "output_type": "stream",
     "text": [
      "INFO:HydroFiles:Inferring 2D elements, 0 / 1410 3-D segments\n"
     ]
    }
   ],
   "source": [
    "base_map=dio.read_map(os.path.join(base,'sfbay_dynamo000.map'),hyd=hydro)"
   ]
  },
  {
   "cell_type": "code",
   "execution_count": 6,
   "metadata": {
    "collapsed": true,
    "deletable": true,
    "editable": true
   },
   "outputs": [],
   "source": [
    "restart_map=dio.read_map(os.path.join(restart,'sfbay_dynamo000.map'),hyd=hydro)"
   ]
  },
  {
   "cell_type": "code",
   "execution_count": 7,
   "metadata": {
    "collapsed": false,
    "deletable": true,
    "editable": true
   },
   "outputs": [
    {
     "name": "stdout",
     "output_type": "stream",
     "text": [
      "Match on base time= 167\n"
     ]
    }
   ],
   "source": [
    "# Find the time steps of base map that aligns with restart\n",
    "tidx=np.nonzero( base_map.time.values==restart_map.time.values[0] )[0][0]\n",
    "print(\"Match on base time=\",tidx)"
   ]
  },
  {
   "cell_type": "code",
   "execution_count": 8,
   "metadata": {
    "collapsed": false,
    "deletable": true,
    "editable": true
   },
   "outputs": [],
   "source": [
    "base_snap=base_map.isel(time=tidx)\n",
    "restart_snap=restart_map.isel(time=0)"
   ]
  },
  {
   "cell_type": "code",
   "execution_count": 9,
   "metadata": {
    "collapsed": false,
    "deletable": true,
    "editable": true
   },
   "outputs": [
    {
     "name": "stdout",
     "output_type": "stream",
     "text": [
      "sub not comparable\n",
      "time not comparable\n",
      "t_sec: True\n",
      "Diat: True\n",
      "NH4: True\n",
      "NO3: True\n",
      "PO4: True\n",
      "Si: True\n",
      "Continuity: True\n",
      "OXY: True\n",
      "Zoopl_V: True\n",
      "Zoopl_E: True\n",
      "Zoopl_R: True\n",
      "Zoopl_N: True\n",
      "POC1: True\n",
      "PON1: True\n",
      "POP1: True\n",
      "DOC: True\n",
      "DON: True\n",
      "DOP: True\n",
      "DetCS1: True\n",
      "DetCS2: True\n",
      "DetNS1: True\n",
      "DetNS2: True\n",
      "DetPS1: True\n",
      "DetPS2: True\n",
      "DetSiS1: True\n",
      "DetSiS2: True\n",
      "LocalDepth: True\n",
      "SURF: True\n",
      "TotalDepth: True\n",
      "depth: True\n",
      "salinity: True\n",
      "tau: True\n",
      "temp: True\n",
      "velocity: True\n",
      "volume: True\n",
      "TAVG_fPPDiat: False\n",
      "TAVG_LimNutDiat: False\n",
      "TAVG_LimRadDiat: False\n",
      "TAVG_fBurS1DetC: True\n",
      "TAVG_fBurS2DetC: True\n",
      "TAVG_DZ_Diat: False\n",
      "TAVG_dPPDiat: False\n",
      "TAVG_dSedPOC1: False\n",
      "TAVG_dSedDiat: False\n",
      "mesh: True\n",
      "node_x: True\n",
      "node_y: True\n",
      "face_node: True\n",
      "edge_node: True\n"
     ]
    }
   ],
   "source": [
    "for v in base_snap.variables:\n",
    "    try:\n",
    "        print(\"%s: %s\"%(v, np.allclose(base_snap[v].values,restart_snap[v].values)))\n",
    "    except TypeError:\n",
    "        print(\"%s not comparable\"%v)"
   ]
  },
  {
   "cell_type": "code",
   "execution_count": null,
   "metadata": {
    "collapsed": true,
    "deletable": true,
    "editable": true
   },
   "outputs": [],
   "source": []
  }
 ],
 "metadata": {
  "kernelspec": {
   "display_name": "Python 3",
   "language": "python",
   "name": "python3"
  },
  "language_info": {
   "codemirror_mode": {
    "name": "ipython",
    "version": 3
   },
   "file_extension": ".py",
   "mimetype": "text/x-python",
   "name": "python",
   "nbconvert_exporter": "python",
   "pygments_lexer": "ipython3",
   "version": "3.5.5"
  },
  "nav_menu": {},
  "toc": {
   "navigate_menu": true,
   "number_sections": true,
   "sideBar": true,
   "threshold": 6,
   "toc_cell": false,
   "toc_section_display": "block",
   "toc_window_display": false
  }
 },
 "nbformat": 4,
 "nbformat_minor": 2
}
